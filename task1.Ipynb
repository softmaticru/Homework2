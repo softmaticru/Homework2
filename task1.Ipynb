{
 "cells": [
  {
   "cell_type": "code",
   "execution_count": 4,
   "metadata": {},
   "outputs": [],
   "source": [
    "# определяем функцию определения высокосного года\n",
    "def  is_leap_year(year):\n",
    "    if (year % 4 == 0 and year % 100 != 0) or (year % 400 == 0):\n",
    "        return \"Високосный год\"\n",
    "    else:\n",
    "        return \"Обычный год\""
   ]
  },
  {
   "cell_type": "code",
   "execution_count": 7,
   "metadata": {},
   "outputs": [
    {
     "name": "stdout",
     "output_type": "stream",
     "text": [
      "Год 2024: Високосный год\n",
      "Год 2023: Обычный год\n"
     ]
    }
   ],
   "source": [
    "# Пример использования функции\n",
    "year1 = 2024\n",
    "result1 = is_leap_year(year1)\n",
    "print(f\"Год {year1}: {result1}\")\n",
    "\n",
    "year2 = 2023\n",
    "result2 = is_leap_year(year2)\n",
    "print(f\"Год {year2}: {result2}\")"
   ]
  }
 ],
 "metadata": {
  "kernelspec": {
   "display_name": "GPU",
   "language": "python",
   "name": "python3"
  },
  "language_info": {
   "codemirror_mode": {
    "name": "ipython",
    "version": 3
   },
   "file_extension": ".py",
   "mimetype": "text/x-python",
   "name": "python",
   "nbconvert_exporter": "python",
   "pygments_lexer": "ipython3",
   "version": "3.8.18"
  }
 },
 "nbformat": 4,
 "nbformat_minor": 2
}
