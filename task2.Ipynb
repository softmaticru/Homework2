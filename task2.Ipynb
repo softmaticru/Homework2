{
 "cells": [
  {
   "cell_type": "code",
   "execution_count": 1,
   "metadata": {},
   "outputs": [],
   "source": [
    "def is_lucky_ticket(ticket_number):\n",
    "    # Преобразуем номер билета в строку, чтобы работать с отдельными цифрами\n",
    "    ticket_str = str(ticket_number).zfill(6)  # Заполняем нулями слева, если нужно\n",
    "\n",
    "    # Проверяем, что номер состоит из 6 цифр\n",
    "    if len(ticket_str) != 6 or not ticket_str.isdigit():\n",
    "        return \"Номер билета должен состоять из 6 цифр.\"\n",
    "\n",
    "    # Вычисляем суммы\n",
    "    sum_first_half = sum(int(digit) for digit in ticket_str[:3])\n",
    "    sum_second_half = sum(int(digit) for digit in ticket_str[3:])\n",
    "\n",
    "    # Сравниваем суммы\n",
    "    if sum_first_half == sum_second_half:\n",
    "        return \"Счастливый билет\"\n",
    "    else:\n",
    "        return \"Несчастливый билет\""
   ]
  },
  {
   "cell_type": "code",
   "execution_count": 2,
   "metadata": {},
   "outputs": [
    {
     "name": "stdout",
     "output_type": "stream",
     "text": [
      "Счастливый билет\n"
     ]
    }
   ],
   "source": [
    "# Пример использования функции\n",
    "ticket_number = input(\"Введите номер билета (6 цифр): \")\n",
    "result = is_lucky_ticket(ticket_number)\n",
    "print(result)"
   ]
  }
 ],
 "metadata": {
  "kernelspec": {
   "display_name": "GPU",
   "language": "python",
   "name": "python3"
  },
  "language_info": {
   "codemirror_mode": {
    "name": "ipython",
    "version": 3
   },
   "file_extension": ".py",
   "mimetype": "text/x-python",
   "name": "python",
   "nbconvert_exporter": "python",
   "pygments_lexer": "ipython3",
   "version": "3.8.18"
  }
 },
 "nbformat": 4,
 "nbformat_minor": 2
}
